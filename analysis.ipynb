{
 "cells": [
  {
   "cell_type": "code",
   "execution_count": 1,
   "id": "d15d3e02",
   "metadata": {},
   "outputs": [],
   "source": [
    "# import libraries\n",
    "import pandas as pd\n",
    "import matplotlib.pyplot as plt\n",
    "import seaborn as sns\n",
    "from wordcloud import WordCloud"
   ]
  },
  {
   "cell_type": "code",
   "execution_count": 3,
   "id": "32a8daec",
   "metadata": {},
   "outputs": [
    {
     "data": {
      "text/html": [
       "<div>\n",
       "<style scoped>\n",
       "    .dataframe tbody tr th:only-of-type {\n",
       "        vertical-align: middle;\n",
       "    }\n",
       "\n",
       "    .dataframe tbody tr th {\n",
       "        vertical-align: top;\n",
       "    }\n",
       "\n",
       "    .dataframe thead th {\n",
       "        text-align: right;\n",
       "    }\n",
       "</style>\n",
       "<table border=\"1\" class=\"dataframe\">\n",
       "  <thead>\n",
       "    <tr style=\"text-align: right;\">\n",
       "      <th></th>\n",
       "      <th>title</th>\n",
       "      <th>abstract</th>\n",
       "      <th>publish_time</th>\n",
       "      <th>journal</th>\n",
       "      <th>source_x</th>\n",
       "      <th>authors</th>\n",
       "    </tr>\n",
       "  </thead>\n",
       "  <tbody>\n",
       "    <tr>\n",
       "      <th>0</th>\n",
       "      <td>COVID-19 and its impact on global health</td>\n",
       "      <td>This paper discusses the impact of COVID-19 on...</td>\n",
       "      <td>2020-01-01</td>\n",
       "      <td>Nature</td>\n",
       "      <td>Elsevier</td>\n",
       "      <td>Smith J</td>\n",
       "    </tr>\n",
       "    <tr>\n",
       "      <th>1</th>\n",
       "      <td>Vaccine development for SARS-CoV-2</td>\n",
       "      <td>Research on vaccines for SARS-CoV-2 and their ...</td>\n",
       "      <td>2020-01-02</td>\n",
       "      <td>Science</td>\n",
       "      <td>Springer</td>\n",
       "      <td>Johnson A</td>\n",
       "    </tr>\n",
       "    <tr>\n",
       "      <th>2</th>\n",
       "      <td>Effects of lockdown on mental health</td>\n",
       "      <td>Study on the psychological effects of lockdown...</td>\n",
       "      <td>2020-01-03</td>\n",
       "      <td>The Lancet</td>\n",
       "      <td>Wiley</td>\n",
       "      <td>Lee K</td>\n",
       "    </tr>\n",
       "    <tr>\n",
       "      <th>3</th>\n",
       "      <td>AI in predicting COVID-19 spread</td>\n",
       "      <td>Application of artificial intelligence in pred...</td>\n",
       "      <td>2020-01-04</td>\n",
       "      <td>BMJ</td>\n",
       "      <td>Oxford</td>\n",
       "      <td>Brown T</td>\n",
       "    </tr>\n",
       "    <tr>\n",
       "      <th>4</th>\n",
       "      <td>Clinical trials for antiviral drugs</td>\n",
       "      <td>Overview of clinical trials on different antiv...</td>\n",
       "      <td>2020-01-05</td>\n",
       "      <td>JAMA</td>\n",
       "      <td>ArXiv</td>\n",
       "      <td>Garcia M</td>\n",
       "    </tr>\n",
       "    <tr>\n",
       "      <th>5</th>\n",
       "      <td>Long-term effects of coronavirus infection</td>\n",
       "      <td>Investigation into long-term health issues pos...</td>\n",
       "      <td>2020-01-06</td>\n",
       "      <td>Nature</td>\n",
       "      <td>Elsevier</td>\n",
       "      <td>Smith J</td>\n",
       "    </tr>\n",
       "    <tr>\n",
       "      <th>6</th>\n",
       "      <td>COVID-19 testing strategies worldwide</td>\n",
       "      <td>Evaluation of testing strategies implemented w...</td>\n",
       "      <td>2020-01-07</td>\n",
       "      <td>Science</td>\n",
       "      <td>Springer</td>\n",
       "      <td>Johnson A</td>\n",
       "    </tr>\n",
       "    <tr>\n",
       "      <th>7</th>\n",
       "      <td>Genomic analysis of SARS-CoV-2</td>\n",
       "      <td>Genomic analysis and mutations in SARS-CoV-2 v...</td>\n",
       "      <td>2020-01-08</td>\n",
       "      <td>The Lancet</td>\n",
       "      <td>Wiley</td>\n",
       "      <td>Lee K</td>\n",
       "    </tr>\n",
       "    <tr>\n",
       "      <th>8</th>\n",
       "      <td>Epidemiological modeling of pandemic</td>\n",
       "      <td>Mathematical models for studying pandemic spread.</td>\n",
       "      <td>2020-01-09</td>\n",
       "      <td>BMJ</td>\n",
       "      <td>Oxford</td>\n",
       "      <td>Brown T</td>\n",
       "    </tr>\n",
       "    <tr>\n",
       "      <th>9</th>\n",
       "      <td>Public health policies during COVID-19</td>\n",
       "      <td>Analysis of different public health policies d...</td>\n",
       "      <td>2020-01-10</td>\n",
       "      <td>JAMA</td>\n",
       "      <td>ArXiv</td>\n",
       "      <td>Garcia M</td>\n",
       "    </tr>\n",
       "  </tbody>\n",
       "</table>\n",
       "</div>"
      ],
      "text/plain": [
       "                                        title  \\\n",
       "0    COVID-19 and its impact on global health   \n",
       "1          Vaccine development for SARS-CoV-2   \n",
       "2        Effects of lockdown on mental health   \n",
       "3            AI in predicting COVID-19 spread   \n",
       "4         Clinical trials for antiviral drugs   \n",
       "5  Long-term effects of coronavirus infection   \n",
       "6       COVID-19 testing strategies worldwide   \n",
       "7              Genomic analysis of SARS-CoV-2   \n",
       "8        Epidemiological modeling of pandemic   \n",
       "9      Public health policies during COVID-19   \n",
       "\n",
       "                                            abstract publish_time     journal  \\\n",
       "0  This paper discusses the impact of COVID-19 on...   2020-01-01      Nature   \n",
       "1  Research on vaccines for SARS-CoV-2 and their ...   2020-01-02     Science   \n",
       "2  Study on the psychological effects of lockdown...   2020-01-03  The Lancet   \n",
       "3  Application of artificial intelligence in pred...   2020-01-04         BMJ   \n",
       "4  Overview of clinical trials on different antiv...   2020-01-05        JAMA   \n",
       "5  Investigation into long-term health issues pos...   2020-01-06      Nature   \n",
       "6  Evaluation of testing strategies implemented w...   2020-01-07     Science   \n",
       "7  Genomic analysis and mutations in SARS-CoV-2 v...   2020-01-08  The Lancet   \n",
       "8  Mathematical models for studying pandemic spread.   2020-01-09         BMJ   \n",
       "9  Analysis of different public health policies d...   2020-01-10        JAMA   \n",
       "\n",
       "   source_x    authors  \n",
       "0  Elsevier    Smith J  \n",
       "1  Springer  Johnson A  \n",
       "2     Wiley      Lee K  \n",
       "3    Oxford    Brown T  \n",
       "4     ArXiv   Garcia M  \n",
       "5  Elsevier    Smith J  \n",
       "6  Springer  Johnson A  \n",
       "7     Wiley      Lee K  \n",
       "8    Oxford    Brown T  \n",
       "9     ArXiv   Garcia M  "
      ]
     },
     "execution_count": 3,
     "metadata": {},
     "output_type": "execute_result"
    }
   ],
   "source": [
    "# load data\n",
    "df = pd.read_csv('data/metadata_sample.csv')\n",
    "df.head(10)"
   ]
  },
  {
   "cell_type": "code",
   "execution_count": 4,
   "id": "a7934a37",
   "metadata": {},
   "outputs": [
    {
     "name": "stdout",
     "output_type": "stream",
     "text": [
      "(500, 6)\n",
      "<class 'pandas.core.frame.DataFrame'>\n",
      "RangeIndex: 500 entries, 0 to 499\n",
      "Data columns (total 6 columns):\n",
      " #   Column        Non-Null Count  Dtype \n",
      "---  ------        --------------  ----- \n",
      " 0   title         500 non-null    object\n",
      " 1   abstract      500 non-null    object\n",
      " 2   publish_time  500 non-null    object\n",
      " 3   journal       500 non-null    object\n",
      " 4   source_x      500 non-null    object\n",
      " 5   authors       500 non-null    object\n",
      "dtypes: object(6)\n",
      "memory usage: 23.6+ KB\n",
      "None\n",
      "title           0\n",
      "abstract        0\n",
      "publish_time    0\n",
      "journal         0\n",
      "source_x        0\n",
      "authors         0\n",
      "dtype: int64\n"
     ]
    }
   ],
   "source": [
    "# check info and the missing values\n",
    "print(df.shape)\n",
    "print(df.info())\n",
    "print(df.isnull().sum())"
   ]
  },
  {
   "cell_type": "code",
   "execution_count": 5,
   "id": "27a5eca4",
   "metadata": {},
   "outputs": [
    {
     "data": {
      "text/plain": [
       "year\n",
       "2021    134\n",
       "2020    366\n",
       "Name: count, dtype: int64"
      ]
     },
     "execution_count": 5,
     "metadata": {},
     "output_type": "execute_result"
    }
   ],
   "source": [
    "df['publish_time'] = pd.to_datetime(df['publish_time'], errors='coerce')\n",
    "df['year'] = df['publish_time'].dt.year\n",
    "df['year'].value_counts().sort_values()"
   ]
  },
  {
   "cell_type": "code",
   "execution_count": 6,
   "id": "c4f5be75",
   "metadata": {},
   "outputs": [
    {
     "data": {
      "image/png": "[encoded data removed]",
      "text/plain": [
       "<Figure size 640x480 with 1 Axes>"
      ]
     },
     "metadata": {},
     "output_type": "display_data"
    }
   ],
   "source": [
    "year_counts = df['year'].value_counts().sort_index()\n",
    "plt.bar(year_counts.index, year_counts.values)\n",
    "plt.title('Publications by Year')\n",
    "plt.show()"
   ]
  },
  {
   "cell_type": "code",
   "execution_count": 7,
   "id": "67072b9e",
   "metadata": {},
   "outputs": [
    {
     "data": {
      "image/png": "[encoded data removed]",
      "text/plain": [
       "<Figure size 640x480 with 1 Axes>"
      ]
     },
     "metadata": {},
     "output_type": "display_data"
    }
   ],
   "source": [
    "top_journals = df['journal'].value_counts().head(10)\n",
    "sns.barplot(x=top_journals.values, y=top_journals.index)\n",
    "plt.title('Top 10 Journals')\n",
    "plt.show()"
   ]
  },
  {
   "cell_type": "code",
   "execution_count": 8,
   "id": "6b9de4eb",
   "metadata": {},
   "outputs": [
    {
     "name": "stdout",
     "output_type": "stream",
     "text": [
      "WordCloud generation failed: WordCloud has not been calculated, call generate first.\n",
      "Skipping word cloud step...\n"
     ]
    },
    {
     "data": {
      "image/png": "[encoded data removed]",
      "text/plain": [
       "<Figure size 1000x600 with 1 Axes>"
      ]
     },
     "metadata": {},
     "output_type": "display_data"
    }
   ],
   "source": [
    "# Combine abstracts into one text\n",
    "text = \" \".join(df[\"abstract\"].dropna())\n",
    "\n",
    "try:\n",
    "    wordcloud = WordCloud(\n",
    "        width=800,\n",
    "        height=400,\n",
    "        background_color=\"white\"\n",
    "    )\n",
    "\n",
    "    plt.figure(figsize=(10,6))\n",
    "    plt.imshow(wordcloud, interpolation=\"bilinear\")\n",
    "    plt.axis(\"off\")\n",
    "    plt.show()\n",
    "\n",
    "except ValueError as e:\n",
    "    print(\"WordCloud generation failed:\", e)\n",
    "    print(\"Skipping word cloud step...\")"
   ]
  }
 ],
 "metadata": {
  "kernelspec": {
   "display_name": "env",
   "language": "python",
   "name": "python3"
  },
  "language_info": {
   "codemirror_mode": {
    "name": "ipython",
    "version": 3
   },
   "file_extension": ".py",
   "mimetype": "text/x-python",
   "name": "python",
   "nbconvert_exporter": "python",
   "pygments_lexer": "ipython3",
   "version": "3.13.7"
  }
 },
 "nbformat": 4,
 "nbformat_minor": 5
}
